{
 "cells": [
  {
   "cell_type": "code",
   "execution_count": 6,
   "metadata": {},
   "outputs": [],
   "source": [
    "import os\n",
    "import sys\n",
    "import argparse\n",
    "import numpy as np\n",
    "import annoy\n",
    "import faiss\n",
    "from random import randint\n",
    "#from sklearn.cluster import AgglomerativeClustering\n",
    "# import lmdb"
   ]
  },
  {
   "cell_type": "code",
   "execution_count": 7,
   "metadata": {},
   "outputs": [],
   "source": [
    "class LSHIndex():\n",
    "    def __init__(self, vectors, labels):\n",
    "        self.dimension = vectors.shape[1]\n",
    "        self.vectors = vectors.astype('float32')\n",
    "        self.labels = labels\n",
    "\n",
    "    def build(self, num_bits=8):\n",
    "        self.index = faiss.IndexLSH(self.dimension, num_bits)\n",
    "        self.index.add(self.vectors)\n",
    "\n",
    "    def query(self, vectors, k=10):\n",
    "        distances, indices = self.index.search(vectors, k)\n",
    "        print(indices[0])\n",
    "        for i in indices[0]:\n",
    "            print(self.labels[i])\n",
    "        # I expect only query on one vector thus the slice\n",
    "        return [self.labels[i] for i in indices[0]]"
   ]
  },
  {
   "cell_type": "code",
   "execution_count": 10,
   "metadata": {},
   "outputs": [
    {
     "data": {
      "text/plain": [
       "(300, 5)"
      ]
     },
     "execution_count": 10,
     "metadata": {},
     "output_type": "execute_result"
    }
   ],
   "source": [
    "WS_LOC = '../../data/subspaces/goi5k/'\n",
    "def get_subspace(folder: str = WS_LOC, index = None) -> np.ndarray:\n",
    "    npy_subspaces = os.listdir(WS_LOC)\n",
    "    if index is None:\n",
    "        index = randint(0, len(npy_subspaces))\n",
    "    S = np.load(os.path.join(WS_LOC, npy_subspaces[index]))\n",
    "    return S\n",
    "\n",
    "data1 = get_subspace()\n",
    "data1.shape"
   ]
  },
  {
   "cell_type": "code",
   "execution_count": 37,
   "metadata": {},
   "outputs": [
    {
     "data": {
      "text/plain": [
       "(300, 5)"
      ]
     },
     "execution_count": 37,
     "metadata": {},
     "output_type": "execute_result"
    }
   ],
   "source": [
    "names = []\n",
    "vectors = np.empty([300, 5])\n",
    "vectors.shape"
   ]
  },
  {
   "cell_type": "code",
   "execution_count": 38,
   "metadata": {},
   "outputs": [],
   "source": [
    "for fn in os.listdir(WS_LOC):\n",
    "    names.append(fn.strip(\".npy\"))"
   ]
  },
  {
   "cell_type": "code",
   "execution_count": 39,
   "metadata": {},
   "outputs": [
    {
     "name": "stdout",
     "output_type": "stream",
     "text": [
      "(300, 5)\n",
      "(300, 5)\n"
     ]
    }
   ],
   "source": [
    "for fn in os.listdir(WS_LOC):\n",
    "    data = np.load(WS_LOC + fn)\n",
    "    print(data.shape)\n",
    "    np.append(vectors, data)\n",
    "    print(vectors.shape)\n",
    "    break"
   ]
  },
  {
   "cell_type": "code",
   "execution_count": 22,
   "metadata": {},
   "outputs": [
    {
     "data": {
      "text/plain": [
       "(300, 5)"
      ]
     },
     "execution_count": 22,
     "metadata": {},
     "output_type": "execute_result"
    }
   ],
   "source": [
    "vectors.shape"
   ]
  },
  {
   "cell_type": "code",
   "execution_count": 23,
   "metadata": {},
   "outputs": [
    {
     "name": "stdout",
     "output_type": "stream",
     "text": [
      "[ 7  4  8  1  5  3 11  9  2  0]\n",
      "5098288232_e1e70d88a0_o\n",
      "5183157604_ab0f10a3ab_o\n",
      "5399932645_f5fb262967_o\n",
      "2046161386_9ead0cddf2_o\n",
      "12605547403_17ecd93213_o\n",
      "4825099940_d739056df6_o\n",
      "8476267464_8ca37a52af_o\n",
      "53306847_8a16b3c40e_o\n",
      "5363633071_4fb5a878e0_o\n",
      "45727059_369d080776_o\n"
     ]
    },
    {
     "data": {
      "text/plain": [
       "['5098288232_e1e70d88a0_o',\n",
       " '5183157604_ab0f10a3ab_o',\n",
       " '5399932645_f5fb262967_o',\n",
       " '2046161386_9ead0cddf2_o',\n",
       " '12605547403_17ecd93213_o',\n",
       " '4825099940_d739056df6_o',\n",
       " '8476267464_8ca37a52af_o',\n",
       " '53306847_8a16b3c40e_o',\n",
       " '5363633071_4fb5a878e0_o',\n",
       " '45727059_369d080776_o']"
      ]
     },
     "execution_count": 23,
     "metadata": {},
     "output_type": "execute_result"
    }
   ],
   "source": [
    "\n",
    "\n",
    "#print(vectors.shape)\n",
    "#print(names[1])\n",
    "#clustering = AgglomerativeClustering(n_clusters=None, affinity='euclidean', memory=None, connectivity=None, compute_full_tree='auto', linkage='ward', distance_threshold=0.001).fit(vectors)\n",
    "\n",
    "\n",
    "index = LSHIndex(vectors, names)\n",
    "index.build()\n",
    "index.query(np.ascontiguousarray(data1, dtype=np.float32))"
   ]
  },
  {
   "cell_type": "code",
   "execution_count": 32,
   "metadata": {},
   "outputs": [
    {
     "data": {
      "text/plain": [
       "(2, 3)"
      ]
     },
     "execution_count": 32,
     "metadata": {},
     "output_type": "execute_result"
    }
   ],
   "source": [
    "a = np.empty([2,3])\n",
    "a.shape"
   ]
  },
  {
   "cell_type": "code",
   "execution_count": 33,
   "metadata": {},
   "outputs": [
    {
     "data": {
      "text/plain": [
       "(12,)"
      ]
     },
     "execution_count": 33,
     "metadata": {},
     "output_type": "execute_result"
    }
   ],
   "source": [
    "b = np.append(a, a)\n",
    "b.shape"
   ]
  },
  {
   "cell_type": "code",
   "execution_count": null,
   "metadata": {},
   "outputs": [],
   "source": []
  },
  {
   "cell_type": "code",
   "execution_count": null,
   "metadata": {},
   "outputs": [],
   "source": []
  }
 ],
 "metadata": {
  "kernelspec": {
   "display_name": "Python 3",
   "language": "python",
   "name": "python3"
  },
  "language_info": {
   "codemirror_mode": {
    "name": "ipython",
    "version": 3
   },
   "file_extension": ".py",
   "mimetype": "text/x-python",
   "name": "python",
   "nbconvert_exporter": "python",
   "pygments_lexer": "ipython3",
   "version": "3.6.9"
  }
 },
 "nbformat": 4,
 "nbformat_minor": 2
}
