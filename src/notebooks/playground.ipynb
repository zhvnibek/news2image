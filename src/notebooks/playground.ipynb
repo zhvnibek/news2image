{
 "cells": [
  {
   "cell_type": "code",
   "execution_count": 14,
   "metadata": {},
   "outputs": [],
   "source": [
    "from gensim.models import KeyedVectors\n",
    "from common.space import Space\n",
    "from text.encoder import TextEncoder"
   ]
  },
  {
   "cell_type": "code",
   "execution_count": 15,
   "metadata": {},
   "outputs": [],
   "source": [
    "from config import w2v_file, vocab_limit"
   ]
  },
  {
   "cell_type": "code",
   "execution_count": 6,
   "metadata": {},
   "outputs": [
    {
     "name": "stderr",
     "output_type": "stream",
     "text": [
      "2019-12-22 15:15:44,365 gensim.models.utils_any2vec: INFO loading projection weights from ~/Downloads/GoogleNews-vectors-negative300.bin.gz\n",
      "2019-12-22 15:16:25,811 gensim.models.utils_any2vec: INFO loaded (1000000, 300) matrix from ~/Downloads/GoogleNews-vectors-negative300.bin.gz\n"
     ]
    }
   ],
   "source": [
    "keyed_vectors = KeyedVectors.load_word2vec_format(w2v_file, limit=vocab_limit, binary=True)"
   ]
  },
  {
   "cell_type": "code",
   "execution_count": 7,
   "metadata": {},
   "outputs": [],
   "source": [
    "space = Space(keyed_vectors)\n",
    "text_encoder = TextEncoder(space=space)"
   ]
  },
  {
   "cell_type": "code",
   "execution_count": 8,
   "metadata": {},
   "outputs": [],
   "source": [
    "full_text1 = \"\"\"\n",
    "Shocking CCTV footage released by Manchester police shows the moment the man wielding \n",
    "a large-bladed knife is tackled to the ground by armed officers. At about 11 pm on Tuesday, \n",
    "CCTV operators spotted a man waving the butcher’s knife around the Piccadilly Garden’s \n",
    "area of Manchester and informed the police. The man can be seen struggling to stand and \n",
    "interacts with terrified members of the public, as he continues to wave the knife around.\n",
    "A 55-year-old man has been arrested on suspicion of affray and remains in police custody \n",
    "for questioning.\"\"\"\n",
    "full_text2 = \"\"\"\n",
    "Shocking CCTV footage released by Manchester police shows the moment the man wielding \n",
    "a large-bladed knife is tackled to the ground by armed officers.\n",
    "The man can be seen struggling to stand and interacts with terrified members of the public, \n",
    "as he continues to wave the knife around. A 55-year-old man has been arrested on suspicion \n",
    "of affray and remains in police custody for questioning.\n",
    "\"\"\"\n",
    "full_text3 = \"\"\"\n",
    "man with a knife attemted to kill the boys of the governore near the school. A 55-year-old \n",
    "man has been arrested on suspicion of affray and remains in police custody for questioning.\n",
    "\"\"\""
   ]
  },
  {
   "cell_type": "code",
   "execution_count": 9,
   "metadata": {},
   "outputs": [],
   "source": [
    "ws1 = text_encoder.create_subspace(full_text=full_text1)\n",
    "ws2 = text_encoder.create_subspace(full_text=full_text2)\n",
    "ws3 = text_encoder.create_subspace(full_text=full_text3)"
   ]
  },
  {
   "cell_type": "code",
   "execution_count": 13,
   "metadata": {},
   "outputs": [
    {
     "data": {
      "text/plain": [
       "0.22766455"
      ]
     },
     "execution_count": 13,
     "metadata": {},
     "output_type": "execute_result"
    }
   ],
   "source": [
    "space.subspaces_similarity(ws2, ws1)"
   ]
  },
  {
   "cell_type": "code",
   "execution_count": 1,
   "metadata": {},
   "outputs": [],
   "source": [
    "import os"
   ]
  },
  {
   "cell_type": "code",
   "execution_count": 22,
   "metadata": {},
   "outputs": [],
   "source": [
    "country_flags_folder = \"/home/zhanibek/Desktop/Fall '19/Senior Project/news2image/data/countries/flags_png\""
   ]
  },
  {
   "cell_type": "code",
   "execution_count": 23,
   "metadata": {},
   "outputs": [
    {
     "data": {
      "text/plain": [
       "200"
      ]
     },
     "execution_count": 23,
     "metadata": {},
     "output_type": "execute_result"
    }
   ],
   "source": [
    "flags = os.listdir(country_flags_folder)\n",
    "len(flags)"
   ]
  },
  {
   "cell_type": "code",
   "execution_count": 26,
   "metadata": {},
   "outputs": [],
   "source": [
    "country_names = []\n",
    "for flag in flags:\n",
    "    spl = flag.split('_')\n",
    "    if len(spl) <= 3:\n",
    "        country_names.append(spl[-1].split('.')[0])"
   ]
  },
  {
   "cell_type": "code",
   "execution_count": 27,
   "metadata": {},
   "outputs": [],
   "source": [
    "with open(\"/home/zhanibek/Desktop/Fall '19/Senior Project/news2image/data/countries/countries.txt\", 'w+') as f:\n",
    "    for c in country_names:\n",
    "        f.write(c.lower() + '\\n')"
   ]
  },
  {
   "cell_type": "code",
   "execution_count": 28,
   "metadata": {},
   "outputs": [],
   "source": [
    "with open(file=\"/home/zhanibek/Desktop/Fall '19/Senior Project/news2image/data/countries/countries.txt\", mode='r') as f:\n",
    "    c = f.read()\n",
    "countries = set(c.split('\\n'))"
   ]
  },
  {
   "cell_type": "code",
   "execution_count": 29,
   "metadata": {},
   "outputs": [],
   "source": [
    "countries.intersection_update({'china'})"
   ]
  },
  {
   "cell_type": "code",
   "execution_count": 30,
   "metadata": {},
   "outputs": [
    {
     "data": {
      "text/plain": [
       "{'china'}"
      ]
     },
     "execution_count": 30,
     "metadata": {},
     "output_type": "execute_result"
    }
   ],
   "source": [
    "countries"
   ]
  },
  {
   "cell_type": "code",
   "execution_count": 31,
   "metadata": {},
   "outputs": [],
   "source": [
    "import cairosvg"
   ]
  },
  {
   "cell_type": "code",
   "execution_count": 21,
   "metadata": {},
   "outputs": [],
   "source": [
    "flags_svg = \"/home/zhanibek/Desktop/Fall '19/Senior Project/news2image/data/countries/flags/\"\n",
    "flags_png = \"/home/zhanibek/Desktop/Fall '19/Senior Project/news2image/data/countries/flags_png/\"\n",
    "for flag in os.listdir(flags_svg):\n",
    "    cairosvg.svg2png(url=os.path.join(flags_svg, flag), write_to=os.path.join(flags_png, flag.replace('.svg', '.png')))\n",
    "    "
   ]
  },
  {
   "cell_type": "code",
   "execution_count": null,
   "metadata": {},
   "outputs": [],
   "source": []
  }
 ],
 "metadata": {
  "kernelspec": {
   "display_name": "Python 3",
   "language": "python",
   "name": "python3"
  },
  "language_info": {
   "codemirror_mode": {
    "name": "ipython",
    "version": 3
   },
   "file_extension": ".py",
   "mimetype": "text/x-python",
   "name": "python",
   "nbconvert_exporter": "python",
   "pygments_lexer": "ipython3",
   "version": "3.6.9"
  }
 },
 "nbformat": 4,
 "nbformat_minor": 2
}
