{
 "cells": [
  {
   "cell_type": "code",
   "execution_count": 1,
   "metadata": {},
   "outputs": [],
   "source": [
    "import os\n",
    "import numpy as np\n",
    "import pandas as pd\n",
    "import matplotlib.pyplot as plt\n",
    "from random import randint, sample\n",
    "from scipy.linalg import subspace_angles\n",
    "from scipy.cluster.hierarchy import dendrogram, linkage\n",
    "from sklearn.cluster import AgglomerativeClustering\n",
    "from scipy.spatial.distance import squareform\n",
    "%matplotlib inline"
   ]
  },
  {
   "cell_type": "code",
   "execution_count": 2,
   "metadata": {},
   "outputs": [],
   "source": [
    "WS_LOC = '../../data/subspaces/goi5k/'"
   ]
  },
  {
   "cell_type": "code",
   "execution_count": 30,
   "metadata": {},
   "outputs": [],
   "source": [
    "def get_subspace(folder: str = WS_LOC, index = None) -> np.ndarray:\n",
    "    npy_subspaces = os.listdir(WS_LOC)\n",
    "    if index is None:\n",
    "        index = randint(0, len(npy_subspaces))\n",
    "    S = np.load(os.path.join(WS_LOC, npy_subspaces[index]))\n",
    "    return S\n",
    "\n",
    "def sample_subspaces(folder: str = WS_LOC, count: int = 10) -> tuple:\n",
    "    sample_subs = sample(population=os.listdir(WS_LOC),k=count)\n",
    "    ids = [sub.split('.')[0] for sub in sample_subs]\n",
    "    return ids, np.asarray([np.load(os.path.join(WS_LOC, sub)) for sub in sample_subs], dtype=np.float32)\n",
    "#     return [np.load(os.path.join(WS_LOC, sub)) for sub in sample_subs]\n",
    "\n",
    "def subspaces_similarity(S1, S2):\n",
    "    canon_angles = subspace_angles(S1, S2)\n",
    "    return np.average(np.square(np.cos(canon_angles)))"
   ]
  },
  {
   "cell_type": "code",
   "execution_count": 31,
   "metadata": {},
   "outputs": [],
   "source": [
    "sub_one = get_subspace()\n",
    "sub_two = get_subspace()\n",
    "sim = subspaces_similarity(S1=sub_one, S2=sub_two)"
   ]
  },
  {
   "cell_type": "markdown",
   "metadata": {},
   "source": [
    "## Compute the condensed distance matrix"
   ]
  },
  {
   "cell_type": "markdown",
   "metadata": {},
   "source": [
    "#### Distance Function:\n",
    "    D(x, y) = 1 - S(x, y), where 0 <= S <= 1"
   ]
  },
  {
   "cell_type": "code",
   "execution_count": 32,
   "metadata": {},
   "outputs": [],
   "source": [
    "def condensed_dist(subs):\n",
    "    n = subs.shape[0]\n",
    "    dm = []\n",
    "    for i in range(n):\n",
    "        s_i = subs[i]\n",
    "        dm.extend([1 - subspaces_similarity(S1=s_i, S2=subs[j]) for j in range(i+1, n)])\n",
    "    return np.array(dm)"
   ]
  },
  {
   "cell_type": "markdown",
   "metadata": {},
   "source": [
    "## Scipy Dendrogram"
   ]
  },
  {
   "cell_type": "markdown",
   "metadata": {},
   "source": [
    "https://www.analyticsvidhya.com/blog/2019/05/beginners-guide-hierarchical-clustering/"
   ]
  },
  {
   "cell_type": "code",
   "execution_count": 67,
   "metadata": {},
   "outputs": [],
   "source": [
    "count = 10\n",
    "labels = range(0, count)\n",
    "ids, subs = sample_subspaces(count=count)\n",
    "dm = condensed_dist(subs)"
   ]
  },
  {
   "cell_type": "code",
   "execution_count": 68,
   "metadata": {},
   "outputs": [
    {
     "data": {
      "text/plain": [
       "array([[ 1.        ,  4.        ,  0.8453529 ,  2.        ],\n",
       "       [ 2.        ,  5.        ,  0.8795258 ,  2.        ],\n",
       "       [ 0.        ,  7.        ,  0.90210769,  2.        ],\n",
       "       [ 3.        , 10.        ,  0.9086639 ,  3.        ],\n",
       "       [ 9.        , 13.        ,  0.92444195,  4.        ],\n",
       "       [ 6.        , 12.        ,  0.94245781,  3.        ],\n",
       "       [ 8.        , 11.        ,  0.95169339,  3.        ],\n",
       "       [14.        , 15.        ,  0.96995418,  7.        ],\n",
       "       [16.        , 17.        ,  0.97554091, 10.        ]])"
      ]
     },
     "execution_count": 68,
     "metadata": {},
     "output_type": "execute_result"
    }
   ],
   "source": [
    "linked = linkage(y=dm, method='complete')\n",
    "linked"
   ]
  },
  {
   "cell_type": "code",
   "execution_count": 69,
   "metadata": {},
   "outputs": [
    {
     "data": {
      "image/png": "[encoded data removed]",
      "text/plain": [
       "<Figure size 720x504 with 1 Axes>"
      ]
     },
     "metadata": {
      "needs_background": "light"
     },
     "output_type": "display_data"
    }
   ],
   "source": [
    "plt.figure(figsize=(10, 7))\n",
    "dendrogram(linked,\n",
    "            orientation='top',\n",
    "            labels=labels,\n",
    "            distance_sort='descending',\n",
    "            show_leaf_counts=True)\n",
    "plt.show()"
   ]
  },
  {
   "cell_type": "code",
   "execution_count": 42,
   "metadata": {},
   "outputs": [
    {
     "data": {
      "image/png": "[encoded data removed]",
      "text/plain": [
       "<Figure size 432x288 with 1 Axes>"
      ]
     },
     "metadata": {
      "needs_background": "light"
     },
     "output_type": "display_data"
    }
   ],
   "source": [
    "s_dm = squareform(dm)\n",
    "plt.imshow(s_dm, cmap='hot', interpolation='nearest')\n",
    "plt.show()"
   ]
  },
  {
   "cell_type": "markdown",
   "metadata": {},
   "source": [
    "## Clustering"
   ]
  },
  {
   "cell_type": "code",
   "execution_count": 171,
   "metadata": {},
   "outputs": [],
   "source": [
    "class Cluster:\n",
    "    \n",
    "    def __init__(self, label: int, subspace, sub_id: str):\n",
    "        self.label = label\n",
    "        self.size = 1\n",
    "        self.subspaces = np.expand_dims(subspace, axis=0)\n",
    "        self.rep = subspace\n",
    "        self.ids = [sub_id]\n",
    "    \n",
    "    def __repr__(self):\n",
    "        return f'Cluster-{self.label}'\n",
    "    \n",
    "    def __lt__(self, other):\n",
    "        return True\n",
    "    \n",
    "    def __eq__(self, other):\n",
    "        return True\n",
    "    \n",
    "    def distance(self, other):\n",
    "        # other is subspace (300, 5)\n",
    "        return 1 - subspaces_similarity(S1=self.rep, S2=other)\n",
    "    \n",
    "    def add(self, subspace, sub_id: str):\n",
    "        self.subspaces = np.append(self.subspaces, np.expand_dims(subspace, axis=0), axis=0)\n",
    "        self.size += 1\n",
    "        self.compute_rep()\n",
    "        self.ids.append(sub_id)\n",
    "        \n",
    "    def compute_rep(self):\n",
    "        self.rep = np.mean(self.subspaces, axis=0, dtype=np.float64)\n",
    "    \n",
    "    def get_rep(self):\n",
    "        return self.rep\n",
    "\n",
    "class Index:\n",
    "    \n",
    "    def __init__(self, subspaces: np.ndarray):\n",
    "        pass"
   ]
  },
  {
   "cell_type": "code",
   "execution_count": 172,
   "metadata": {},
   "outputs": [],
   "source": [
    "def pdist_heatmap(subspaces):\n",
    "    dm = condensed_dist(subspaces)\n",
    "    s_dm = squareform(dm)\n",
    "    plt.imshow(s_dm, cmap='hot', interpolation='nearest')\n",
    "    plt.show()"
   ]
  },
  {
   "cell_type": "code",
   "execution_count": 240,
   "metadata": {},
   "outputs": [],
   "source": [
    "def get_labels(subspaces) -> list:\n",
    "    dm = condensed_dist(subs)\n",
    "    s_dm = squareform(dm)\n",
    "    \n",
    "    n_clusters = int(np.sqrt(len(subspaces)))\n",
    "    affinity = 'precomputed'\n",
    "    lnkg = 'complete' # single or complete\n",
    "    compute_full_tree = 'auto'\n",
    "    if n_clusters is not None:\n",
    "        distance_threshold = None\n",
    "    else:\n",
    "        distance_threshold = 0.85\n",
    "    ac = AgglomerativeClustering(n_clusters=n_clusters, \n",
    "                                 affinity=affinity, \n",
    "                                 linkage=lnkg,\n",
    "                                 compute_full_tree=compute_full_tree, \n",
    "                                 distance_threshold=distance_threshold)\n",
    "    ac.fit(s_dm)\n",
    "    print(f'Number of clusters: {ac.n_clusters_}')\n",
    "    return ac.labels_"
   ]
  },
  {
   "cell_type": "code",
   "execution_count": 263,
   "metadata": {},
   "outputs": [
    {
     "data": {
      "image/png": "[encoded data removed]",
      "text/plain": [
       "<Figure size 432x288 with 1 Axes>"
      ]
     },
     "metadata": {
      "needs_background": "light"
     },
     "output_type": "display_data"
    }
   ],
   "source": [
    "count = 50\n",
    "ids, subs = sample_subspaces(count=count)\n",
    "pdist_heatmap(subspaces=subs)"
   ]
  },
  {
   "cell_type": "code",
   "execution_count": 264,
   "metadata": {},
   "outputs": [
    {
     "name": "stdout",
     "output_type": "stream",
     "text": [
      "Number of clusters: 7\n"
     ]
    },
    {
     "data": {
      "text/plain": [
       "array([3, 0, 0, 5, 2, 4, 1, 4, 0, 3, 0, 2, 6, 4, 2, 3, 5, 1, 4, 0, 2, 5,\n",
       "       3, 0, 2, 4, 3, 5, 1, 4, 6, 2, 5, 3, 5, 0, 1, 2, 1, 3, 5, 0, 2, 0,\n",
       "       5, 6, 0, 2, 4, 4])"
      ]
     },
     "execution_count": 264,
     "metadata": {},
     "output_type": "execute_result"
    }
   ],
   "source": [
    "labels = get_labels(subspaces=subs)\n",
    "labels"
   ]
  },
  {
   "cell_type": "code",
   "execution_count": 265,
   "metadata": {},
   "outputs": [
    {
     "data": {
      "text/plain": [
       "Counter({3: 7, 0: 10, 5: 8, 2: 9, 4: 8, 1: 5, 6: 3})"
      ]
     },
     "execution_count": 265,
     "metadata": {},
     "output_type": "execute_result"
    }
   ],
   "source": [
    "from collections import Counter\n",
    "Counter(labels)"
   ]
  },
  {
   "cell_type": "markdown",
   "metadata": {},
   "source": [
    "### Create clusters"
   ]
  },
  {
   "cell_type": "code",
   "execution_count": 266,
   "metadata": {},
   "outputs": [],
   "source": [
    "clusters = {}\n",
    "for i, s, l in zip(ids, subs, labels):\n",
    "    if l not in clusters:\n",
    "        clusters[l] = Cluster(label=l, subspace=s, sub_id=i)\n",
    "    else:\n",
    "        clusters[l].add(subspace=s, sub_id=i)"
   ]
  },
  {
   "cell_type": "code",
   "execution_count": 267,
   "metadata": {},
   "outputs": [
    {
     "data": {
      "text/plain": [
       "0.8910743303722247"
      ]
     },
     "execution_count": 267,
     "metadata": {},
     "output_type": "execute_result"
    }
   ],
   "source": [
    "clusters[0].distance(subs[0])"
   ]
  },
  {
   "cell_type": "code",
   "execution_count": 124,
   "metadata": {},
   "outputs": [
    {
     "name": "stderr",
     "output_type": "stream",
     "text": [
      "2020-04-21 11:44:22,193 gensim.models.utils_any2vec: INFO loading projection weights from ~/Downloads/GoogleNews-vectors-negative300.bin.gz\n",
      "2020-04-21 11:44:22,958 gensim.models.utils_any2vec: INFO loaded (20000, 300) matrix from ~/Downloads/GoogleNews-vectors-negative300.bin.gz\n"
     ]
    }
   ],
   "source": [
    "import sys\n",
    "sys.path.append(\"/home/zhanibek/Desktop/Fall '19/Senior Project/news2image\")\n",
    "from gensim.models import KeyedVectors\n",
    "from src.common.space import Space\n",
    "from src.text.encoder import TextEncoder\n",
    "from src.config import Word2VecConfig, ImageConfig\n",
    "\n",
    "t_keyed_vectors = KeyedVectors.load_word2vec_format(fname=Word2VecConfig.get_word_vectors_filename(),\n",
    "                                                        limit=Word2VecConfig.get_vocab_size(),\n",
    "                                                        binary=True)\n",
    "space = Space(keyed_vectors=t_keyed_vectors)\n",
    "text_encoder = TextEncoder(space=space)\n",
    "\n",
    "def get_random_text() -> str:\n",
    "   # Get a random text\n",
    "    texts_folder = \"/home/zhanibek/Desktop/Fall '19/Senior Project/news2image/data/texts\"\n",
    "    category = 'news'\n",
    "    txts = os.listdir(os.path.join(texts_folder, category))\n",
    "    r = randint(0, len(txts))\n",
    "    with open(os.path.join(texts_folder, category, txts[r]), 'r') as f:\n",
    "        t_text = f.read()\n",
    "    return t_text "
   ]
  },
  {
   "cell_type": "code",
   "execution_count": 298,
   "metadata": {},
   "outputs": [
    {
     "name": "stdout",
     "output_type": "stream",
     "text": [
      " Police had been monitoring a Brazilian gang for three months before making a shocking discovery of an almost 500-metre-long tunnel. The police arrested 16 suspects before they could pull off the robbery of a branch of Banco do Brasil in Sao Paolo. The gang members allegedly told the police that they were planning to steal the equivalent of $317 million, far exceeding the building costs of $1.27 million of the tunnel built from a nearby rented home. More than ten years ago, a different gang in Brazil tunnelled into a bank vault and stole $70 million.\n"
     ]
    }
   ],
   "source": [
    "full_text1 = get_random_text()\n",
    "print(full_text1)\n",
    "sub_txt = text_encoder.create_subspace(text=full_text1)"
   ]
  },
  {
   "cell_type": "code",
   "execution_count": 299,
   "metadata": {},
   "outputs": [
    {
     "name": "stdout",
     "output_type": "stream",
     "text": [
      "Distance to Cluster-3 is 0.9746350993081186\n",
      "Distance to Cluster-0 is 0.9613340921774335\n",
      "Distance to Cluster-5 is 0.9116203145738662\n",
      "Distance to Cluster-2 is 0.9142414443627558\n",
      "Distance to Cluster-4 is 0.9214537383778421\n",
      "Distance to Cluster-1 is 0.9670101993954648\n",
      "Distance to Cluster-6 is 0.8866760417759966\n"
     ]
    }
   ],
   "source": [
    "for label, cluster in clusters.items():\n",
    "    d = cluster.distance(sub_txt)\n",
    "    print(f'Distance to {cluster} is {d}')"
   ]
  },
  {
   "cell_type": "code",
   "execution_count": 289,
   "metadata": {},
   "outputs": [],
   "source": [
    "from IPython.display import Image as ImageOpener, display\n",
    "images_folder = \"/home/zhanibek/Desktop/Fall '19/Senior Project/news2image/data/images/goi5k\"\n",
    "def display_all_images(image_ids: list):\n",
    "    for image_id in image_ids:\n",
    "        image_name = os.path.join(images_folder, f'{image_id}.jpg')\n",
    "        display(ImageOpener(image_name))"
   ]
  },
  {
   "cell_type": "code",
   "execution_count": 296,
   "metadata": {
    "scrolled": true
   },
   "outputs": [],
   "source": [
    "i = 2\n",
    "# display_all_images(clusters[i].ids)"
   ]
  },
  {
   "cell_type": "markdown",
   "metadata": {},
   "source": [
    "## Searching for an approximate nearest neighbour"
   ]
  },
  {
   "cell_type": "raw",
   "metadata": {},
   "source": [
    "Questions:\n",
    "    1. How to select top N approximate nearest neighbour?\n",
    "    2. How to compare a queried subspace against a cluster?\n",
    "    2. ... two subspaces?\n",
    "    3. "
   ]
  },
  {
   "cell_type": "code",
   "execution_count": 21,
   "metadata": {},
   "outputs": [
    {
     "name": "stdout",
     "output_type": "stream",
     "text": [
      "[[0.84569634 0.84222532 0.13376251]\n",
      " [0.89899966 0.33340296 0.71435069]]\n",
      "[[0.61785766 0.27817323 0.25958679]\n",
      " [0.99389378 0.40930107 0.04043242]]\n"
     ]
    }
   ],
   "source": [
    "a = np.random.rand(2, 3)\n",
    "b = np.random.rand(2, 3)\n",
    "print(a)\n",
    "print(b)"
   ]
  },
  {
   "cell_type": "code",
   "execution_count": 22,
   "metadata": {
    "collapsed": true
   },
   "outputs": [
    {
     "name": "stdout",
     "output_type": "stream",
     "text": [
      "Rep:\n",
      "[[0.84569634 0.84222532 0.13376251]\n",
      " [0.89899966 0.33340296 0.71435069]]\n",
      "Rep:\n",
      "[[0.731777   0.56019928 0.19667465]\n",
      " [0.94644672 0.37135202 0.37739156]]\n"
     ]
    },
    {
     "data": {
      "text/plain": [
       "array([[[0.84569634, 0.84222532, 0.13376251],\n",
       "        [0.89899966, 0.33340296, 0.71435069]],\n",
       "\n",
       "       [[0.61785766, 0.27817323, 0.25958679],\n",
       "        [0.99389378, 0.40930107, 0.04043242]]])"
      ]
     },
     "execution_count": 22,
     "metadata": {},
     "output_type": "execute_result"
    }
   ],
   "source": [
    "cluster = Cluster(subspace=a)\n",
    "rep = cluster.get_rep()\n",
    "print(f'Rep:\\n{rep}')\n",
    "# cluster.add(a)\n",
    "cluster.add(b)\n",
    "rep = cluster.get_rep()\n",
    "print(f'Rep:\\n{rep}')\n",
    "\n",
    "cluster.subspaces"
   ]
  },
  {
   "cell_type": "code",
   "execution_count": null,
   "metadata": {},
   "outputs": [],
   "source": []
  },
  {
   "cell_type": "raw",
   "metadata": {},
   "source": [
    "Observations:\n",
    "1. The hierarchial algorithm we have implemented requires the precomputed pairwise distances of all subspaces and the most of the time is spent during computing these distances. O(n^2)\n",
    "2.As mentioned, the similarity scores are around 0.15 and rarely goes above 0.25\n",
    "3. While using \"single\" strategy, we get one major cluster having almost 90% of subspaces, and \"complete\" strategy is more stable, generating \"balanced\" clusters\n",
    "4. Subspace having best similarity scores are very few and they \"get lost\" inside clusters\n",
    "5. Given a newly generated word subspace, we compare it with clusters in top-to-bottom manner. Similarity scores of the queried subspace against the highest level clusters are not much diverse - often all have low and almost equal similarity scores."
   ]
  },
  {
   "cell_type": "code",
   "execution_count": null,
   "metadata": {},
   "outputs": [],
   "source": []
  }
 ],
 "metadata": {
  "kernelspec": {
   "display_name": "Python 3",
   "language": "python",
   "name": "python3"
  },
  "language_info": {
   "codemirror_mode": {
    "name": "ipython",
    "version": 3
   },
   "file_extension": ".py",
   "mimetype": "text/x-python",
   "name": "python",
   "nbconvert_exporter": "python",
   "pygments_lexer": "ipython3",
   "version": "3.6.9"
  }
 },
 "nbformat": 4,
 "nbformat_minor": 2
}
