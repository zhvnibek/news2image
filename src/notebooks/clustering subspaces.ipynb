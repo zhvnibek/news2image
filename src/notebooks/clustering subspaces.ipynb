{
 "cells": [
  {
   "cell_type": "code",
   "execution_count": 1,
   "metadata": {},
   "outputs": [],
   "source": [
    "import os\n",
    "import numpy as np\n",
    "import pandas as pd\n",
    "import matplotlib.pyplot as plt\n",
    "from random import randint, sample\n",
    "from scipy.linalg import subspace_angles\n",
    "from scipy.cluster.hierarchy import dendrogram, linkage\n",
    "from sklearn.cluster import AgglomerativeClustering\n",
    "from scipy.spatial.distance import squareform\n",
    "%matplotlib inline"
   ]
  },
  {
   "cell_type": "code",
   "execution_count": 2,
   "metadata": {},
   "outputs": [],
   "source": [
    "WS_LOC = '../../data/subspaces/goi5k/'"
   ]
  },
  {
   "cell_type": "code",
   "execution_count": 3,
   "metadata": {},
   "outputs": [],
   "source": [
    "def get_subspace(folder: str = WS_LOC, index = None) -> np.ndarray:\n",
    "    npy_subspaces = os.listdir(WS_LOC)\n",
    "    if index is None:\n",
    "        index = randint(0, len(npy_subspaces))\n",
    "    S = np.load(os.path.join(WS_LOC, npy_subspaces[index]))\n",
    "    return S\n",
    "\n",
    "def sample_subspaces(folder: str = WS_LOC, count: int = 10):\n",
    "    sample_subs = sample(population=os.listdir(WS_LOC),k=count)\n",
    "    return np.asarray([np.load(os.path.join(WS_LOC, sub)) for sub in sample_subs], dtype=np.float32)\n",
    "#     return [np.load(os.path.join(WS_LOC, sub)) for sub in sample_subs]\n",
    "\n",
    "def subspaces_similarity(S1, S2):\n",
    "    canon_angles = subspace_angles(S1, S2)\n",
    "    return np.average(np.square(np.cos(canon_angles)))"
   ]
  },
  {
   "cell_type": "code",
   "execution_count": 4,
   "metadata": {},
   "outputs": [],
   "source": [
    "sub_one = get_subspace()\n",
    "sub_two = get_subspace()\n",
    "sim = subspaces_similarity(S1=sub_one, S2=sub_two)"
   ]
  },
  {
   "cell_type": "markdown",
   "metadata": {},
   "source": [
    "## Compute the condensed distance matrix"
   ]
  },
  {
   "cell_type": "markdown",
   "metadata": {},
   "source": [
    "#### Distance Function:\n",
    "    D(x, y) = 1 - S(x, y), where 0 <= S <= 1"
   ]
  },
  {
   "cell_type": "code",
   "execution_count": 5,
   "metadata": {},
   "outputs": [],
   "source": [
    "def condensed_dist(subs):\n",
    "    n = subs.shape[0]\n",
    "    dm = []\n",
    "    for i in range(n):\n",
    "        s_i = subs[i]\n",
    "        dm.extend([1 - subspaces_similarity(S1=s_i, S2=subs[j]) for j in range(i+1, n)])\n",
    "    return np.array(dm)"
   ]
  },
  {
   "cell_type": "markdown",
   "metadata": {},
   "source": [
    "## Scipy Dendrogram"
   ]
  },
  {
   "cell_type": "markdown",
   "metadata": {},
   "source": [
    "https://www.analyticsvidhya.com/blog/2019/05/beginners-guide-hierarchical-clustering/"
   ]
  },
  {
   "cell_type": "code",
   "execution_count": 6,
   "metadata": {},
   "outputs": [],
   "source": [
    "count = 10\n",
    "labels = range(0, count)\n",
    "subs = sample_subspaces(count=count)\n",
    "dm = condensed_dist(subs)"
   ]
  },
  {
   "cell_type": "code",
   "execution_count": 7,
   "metadata": {},
   "outputs": [
    {
     "data": {
      "text/plain": [
       "array([[ 2.        ,  7.        ,  0.78265217,  2.        ],\n",
       "       [ 6.        ,  9.        ,  0.81760551,  2.        ],\n",
       "       [ 8.        , 11.        ,  0.90794597,  3.        ],\n",
       "       [10.        , 12.        ,  0.92303637,  5.        ],\n",
       "       [ 1.        ,  5.        ,  0.93075906,  2.        ],\n",
       "       [ 0.        ,  3.        ,  0.93189354,  2.        ],\n",
       "       [ 4.        , 15.        ,  0.941203  ,  3.        ],\n",
       "       [14.        , 16.        ,  0.97340991,  5.        ],\n",
       "       [13.        , 17.        ,  0.97633583, 10.        ]])"
      ]
     },
     "execution_count": 7,
     "metadata": {},
     "output_type": "execute_result"
    }
   ],
   "source": [
    "linked = linkage(y=dm, method='complete')\n",
    "linked"
   ]
  },
  {
   "cell_type": "code",
   "execution_count": 8,
   "metadata": {},
   "outputs": [
    {
     "data": {
      "image/png": "[encoded data removed]",
      "text/plain": [
       "<Figure size 720x504 with 1 Axes>"
      ]
     },
     "metadata": {
      "needs_background": "light"
     },
     "output_type": "display_data"
    }
   ],
   "source": [
    "plt.figure(figsize=(10, 7))\n",
    "dendrogram(linked,\n",
    "            orientation='top',\n",
    "            labels=labels,\n",
    "            distance_sort='descending',\n",
    "            show_leaf_counts=True)\n",
    "plt.show()"
   ]
  },
  {
   "cell_type": "code",
   "execution_count": 9,
   "metadata": {},
   "outputs": [
    {
     "data": {
      "image/png": "[encoded data removed]",
      "text/plain": [
       "<Figure size 432x288 with 1 Axes>"
      ]
     },
     "metadata": {
      "needs_background": "light"
     },
     "output_type": "display_data"
    }
   ],
   "source": [
    "s_dm = squareform(dm)\n",
    "plt.imshow(s_dm, cmap='hot', interpolation='nearest')\n",
    "plt.show()"
   ]
  },
  {
   "cell_type": "markdown",
   "metadata": {},
   "source": [
    "## Clustering"
   ]
  },
  {
   "cell_type": "code",
   "execution_count": 10,
   "metadata": {},
   "outputs": [
    {
     "data": {
      "image/png": "[encoded data removed]",
      "text/plain": [
       "<Figure size 432x288 with 1 Axes>"
      ]
     },
     "metadata": {
      "needs_background": "light"
     },
     "output_type": "display_data"
    }
   ],
   "source": [
    "subs = sample_subspaces(count=10)\n",
    "dm = condensed_dist(subs)\n",
    "s_dm = squareform(dm)\n",
    "plt.imshow(s_dm, cmap='hot', interpolation='nearest')\n",
    "plt.show()"
   ]
  },
  {
   "cell_type": "code",
   "execution_count": 11,
   "metadata": {},
   "outputs": [
    {
     "name": "stdout",
     "output_type": "stream",
     "text": [
      "Number of clusters: 4\n"
     ]
    }
   ],
   "source": [
    "n_clusters = 4\n",
    "affinity = 'precomputed'\n",
    "lnkg = 'complete' # single or complete\n",
    "compute_full_tree = 'auto'\n",
    "if n_clusters is not None:\n",
    "    distance_threshold = None\n",
    "else:\n",
    "    distance_threshold = 0.85\n",
    "ac = AgglomerativeClustering(n_clusters=n_clusters, \n",
    "                             affinity=affinity, \n",
    "                             linkage=lnkg,\n",
    "                             compute_full_tree=compute_full_tree, \n",
    "                             distance_threshold=distance_threshold)\n",
    "ac.fit(s_dm)\n",
    "print(f'Number of clusters: {ac.n_clusters_}')"
   ]
  },
  {
   "cell_type": "code",
   "execution_count": 12,
   "metadata": {},
   "outputs": [
    {
     "data": {
      "text/plain": [
       "array([3, 0, 2, 0, 2, 1, 0, 0, 1, 1])"
      ]
     },
     "execution_count": 12,
     "metadata": {},
     "output_type": "execute_result"
    }
   ],
   "source": [
    "labels = ac.labels_\n",
    "labels"
   ]
  },
  {
   "cell_type": "code",
   "execution_count": 13,
   "metadata": {},
   "outputs": [
    {
     "data": {
      "text/plain": [
       "0.060745787"
      ]
     },
     "execution_count": 13,
     "metadata": {},
     "output_type": "execute_result"
    }
   ],
   "source": [
    "i = 4\n",
    "j = -1\n",
    "subspaces_similarity(subs[i], subs[j])"
   ]
  },
  {
   "cell_type": "markdown",
   "metadata": {},
   "source": [
    "### Create clusters"
   ]
  },
  {
   "cell_type": "code",
   "execution_count": 113,
   "metadata": {},
   "outputs": [],
   "source": [
    "clusters = {}\n",
    "for s, l in zip(subs, labels):\n",
    "    if l not in clusters:\n",
    "        clusters[l] = Cluster(label=l, subspace=s)\n",
    "    else:\n",
    "        clusters[l].add(s)"
   ]
  },
  {
   "cell_type": "code",
   "execution_count": 118,
   "metadata": {},
   "outputs": [
    {
     "data": {
      "text/plain": [
       "0.0"
      ]
     },
     "execution_count": 118,
     "metadata": {},
     "output_type": "execute_result"
    }
   ],
   "source": [
    "clusters[3].distance(subs[-3])"
   ]
  },
  {
   "cell_type": "markdown",
   "metadata": {},
   "source": [
    "## Searching for an approximate nearest neighbour"
   ]
  },
  {
   "cell_type": "raw",
   "metadata": {},
   "source": [
    "Questions:\n",
    "    1. How to select top N approximate nearest neighbour?\n",
    "    2. How to compare a queried subspace against a cluster?\n",
    "    2. ... two subspaces?\n",
    "    3. "
   ]
  },
  {
   "cell_type": "code",
   "execution_count": 99,
   "metadata": {},
   "outputs": [],
   "source": [
    "class Cluster:\n",
    "    \n",
    "    def __init__(self, label: int, subspace):\n",
    "        self.label =label\n",
    "        self.size = 1\n",
    "        self.subspaces = np.expand_dims(subspace, axis=0)\n",
    "        self.rep = subspace\n",
    "    \n",
    "    def __repr__(self):\n",
    "        return f'Cluster-{self.label}'\n",
    "    \n",
    "    def __lt__(self, other):\n",
    "        return True\n",
    "    \n",
    "    def __eq__(self, other):\n",
    "        return True\n",
    "    \n",
    "    def distance(self, other):\n",
    "        # other is subspace (300, 5)\n",
    "        return 1 - subspaces_similarity(S1=self.rep, S2=other)\n",
    "    \n",
    "    def add(self, subspace):\n",
    "        self.subspaces = np.append(self.subspaces, np.expand_dims(subspace, axis=0), axis=0)\n",
    "        self.size += 1\n",
    "        self.compute_rep()\n",
    "        \n",
    "    def compute_rep(self):\n",
    "        self.rep = np.mean(self.subspaces, axis=0, dtype=np.float64)\n",
    "    \n",
    "    def get_rep(self):\n",
    "        return self.rep\n",
    "\n",
    "class Index:\n",
    "    \n",
    "    def __init__(self, subspaces: np.ndarray):\n",
    "        pass"
   ]
  },
  {
   "cell_type": "code",
   "execution_count": 21,
   "metadata": {},
   "outputs": [
    {
     "name": "stdout",
     "output_type": "stream",
     "text": [
      "[[0.84569634 0.84222532 0.13376251]\n",
      " [0.89899966 0.33340296 0.71435069]]\n",
      "[[0.61785766 0.27817323 0.25958679]\n",
      " [0.99389378 0.40930107 0.04043242]]\n"
     ]
    }
   ],
   "source": [
    "a = np.random.rand(2, 3)\n",
    "b = np.random.rand(2, 3)\n",
    "print(a)\n",
    "print(b)"
   ]
  },
  {
   "cell_type": "code",
   "execution_count": 22,
   "metadata": {},
   "outputs": [
    {
     "name": "stdout",
     "output_type": "stream",
     "text": [
      "Rep:\n",
      "[[0.84569634 0.84222532 0.13376251]\n",
      " [0.89899966 0.33340296 0.71435069]]\n",
      "Rep:\n",
      "[[0.731777   0.56019928 0.19667465]\n",
      " [0.94644672 0.37135202 0.37739156]]\n"
     ]
    },
    {
     "data": {
      "text/plain": [
       "array([[[0.84569634, 0.84222532, 0.13376251],\n",
       "        [0.89899966, 0.33340296, 0.71435069]],\n",
       "\n",
       "       [[0.61785766, 0.27817323, 0.25958679],\n",
       "        [0.99389378, 0.40930107, 0.04043242]]])"
      ]
     },
     "execution_count": 22,
     "metadata": {},
     "output_type": "execute_result"
    }
   ],
   "source": [
    "cluster = Cluster(subspace=a)\n",
    "rep = cluster.get_rep()\n",
    "print(f'Rep:\\n{rep}')\n",
    "# cluster.add(a)\n",
    "cluster.add(b)\n",
    "rep = cluster.get_rep()\n",
    "print(f'Rep:\\n{rep}')\n",
    "\n",
    "cluster.subspaces"
   ]
  },
  {
   "cell_type": "code",
   "execution_count": null,
   "metadata": {},
   "outputs": [],
   "source": []
  },
  {
   "cell_type": "code",
   "execution_count": null,
   "metadata": {},
   "outputs": [],
   "source": []
  }
 ],
 "metadata": {
  "kernelspec": {
   "display_name": "Python 3",
   "language": "python",
   "name": "python3"
  },
  "language_info": {
   "codemirror_mode": {
    "name": "ipython",
    "version": 3
   },
   "file_extension": ".py",
   "mimetype": "text/x-python",
   "name": "python",
   "nbconvert_exporter": "python",
   "pygments_lexer": "ipython3",
   "version": "3.6.9"
  }
 },
 "nbformat": 4,
 "nbformat_minor": 2
}
