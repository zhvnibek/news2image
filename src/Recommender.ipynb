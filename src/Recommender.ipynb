{
 "cells": [
  {
   "cell_type": "code",
   "execution_count": 1,
   "metadata": {},
   "outputs": [],
   "source": [
    "import sys\n",
    "import os\n",
    "import numpy as np\n",
    "from gensim.models import KeyedVectors\n",
    "from text.encoder import TextEncoder\n",
    "from text.summarizer import NewsSummarizer\n",
    "from common.space import Space\n",
    "from config import w2v_file, vocab_limit\n",
    "from config import get_logger\n",
    "\n",
    "sys.path.append(os.path.join(sys.path[0],'image','captioning')) # add models.py\n",
    "\n",
    "logger = get_logger('recommender')"
   ]
  },
  {
   "cell_type": "code",
   "execution_count": 2,
   "metadata": {},
   "outputs": [
    {
     "name": "stderr",
     "output_type": "stream",
     "text": [
      "2019-12-22 15:54:15,540 gensim.models.utils_any2vec: INFO loading projection weights from ~/Downloads/GoogleNews-vectors-negative300.bin.gz\n",
      "2019-12-22 15:54:58,037 gensim.models.utils_any2vec: INFO loaded (1000000, 300) matrix from ~/Downloads/GoogleNews-vectors-negative300.bin.gz\n"
     ]
    }
   ],
   "source": [
    "keyed_vectors = KeyedVectors.load_word2vec_format(w2v_file, limit=vocab_limit, binary=True)\n",
    "space = Space(keyed_vectors)"
   ]
  },
  {
   "cell_type": "code",
   "execution_count": 3,
   "metadata": {},
   "outputs": [],
   "source": [
    "class Recommender:\n",
    "\n",
    "    def __init__(self, space: Space):\n",
    "        self.space = space\n",
    "        self.text_encoder = TextEncoder(space=self.space)\n",
    "        self.image_subspaces_loc = None\n",
    "    \n",
    "    def set_image_subspaces(self, path: str):\n",
    "        self.image_subspaces_loc = path\n",
    "                \n",
    "    def predict(self, text: str, count: int = 5):\n",
    "        sims = self.compute_similarities(text)\n",
    "        return sorted(sims, key=lambda x: x[1], reverse=True)[:count]\n",
    "\n",
    "#     def display_predictions(self, count: int=5):\n",
    "#         preds = self.predict(text, count)\n",
    "#         pass\n",
    "\n",
    "    # Search the most similar word subspace from images\n",
    "    def compute_similarities(self, text: str):\n",
    "        sub_txt = self.text_encoder.create_subspace(full_text=text)\n",
    "        logger.info(sub_txt.shape)\n",
    "        sims = []\n",
    "        if self.image_subspaces_loc is not None:\n",
    "            for im in os.listdir(self.image_subspaces_loc):\n",
    "                sub_img = np.load(os.path.join(self.image_subspaces_loc, im))\n",
    "                sim = self.space.subspaces_similarity(sub_txt, sub_img)\n",
    "                sims.append((im.split('.')[0], sim))\n",
    "        return sims\n",
    "        \n",
    "    def __str__(self):\n",
    "        return \"Image Recommender Model\""
   ]
  },
  {
   "cell_type": "code",
   "execution_count": 4,
   "metadata": {},
   "outputs": [],
   "source": [
    "goi_subspaces = '../data/subspaces/goi'"
   ]
  },
  {
   "cell_type": "code",
   "execution_count": 5,
   "metadata": {},
   "outputs": [],
   "source": [
    "recommender = Recommender(space=space)\n",
    "recommender.set_image_subspaces(goi_subspaces)"
   ]
  },
  {
   "cell_type": "code",
   "execution_count": 37,
   "metadata": {},
   "outputs": [],
   "source": [
    "text = \"\"\"\n",
    "Shocking CCTV footage released by Manchester police shows the moment the man wielding \n",
    "a large-bladed knife is tackled to the ground by armed officers. At about 11 pm on Tuesday, \n",
    "CCTV operators spotted a man waving the butcher’s knife around the Piccadilly Garden’s \n",
    "area of Manchester and informed the police. The man can be seen struggling to stand and \n",
    "interacts with terrified members of the public, as he continues to wave the knife around.\n",
    "A 55-year-old man has been arrested on suspicion of affray and remains in police custody \n",
    "for questioning.\"\"\"\n",
    "text2 = \"\"\"\n",
    "a close up of a green head on a table. a close up of a green head on a table.\n",
    "\"\"\""
   ]
  },
  {
   "cell_type": "code",
   "execution_count": 38,
   "metadata": {},
   "outputs": [
    {
     "name": "stderr",
     "output_type": "stream",
     "text": [
      "2019-12-22 16:03:02,475 recommender: INFO (300, 5)\n"
     ]
    },
    {
     "data": {
      "text/plain": [
       "[('3361086680_baf1ebe647_o', 0.35934952)]"
      ]
     },
     "execution_count": 38,
     "metadata": {},
     "output_type": "execute_result"
    }
   ],
   "source": [
    "recommender.compute_similarities(text=text2)"
   ]
  },
  {
   "cell_type": "code",
   "execution_count": 8,
   "metadata": {},
   "outputs": [],
   "source": [
    "from image.encoder import ImageEncoder\n",
    "from config import google_open_images_folder\n",
    "image_encoder = ImageEncoder(space=space)"
   ]
  },
  {
   "cell_type": "code",
   "execution_count": 9,
   "metadata": {},
   "outputs": [],
   "source": [
    "def test_subspace_from_image(image_filename: str):\n",
    "    captions: list = image_encoder._get_captions(image_filename)\n",
    "    print(captions)\n",
    "    keywords: Counter = image_encoder._get_keywords(captions)\n",
    "    print(keywords)\n",
    "    word_subspace = image_encoder.create_subspace(image_filename)\n",
    "    return word_subspace"
   ]
  },
  {
   "cell_type": "code",
   "execution_count": 10,
   "metadata": {},
   "outputs": [
    {
     "name": "stdout",
     "output_type": "stream",
     "text": [
      "['a close up of a broccoli head on a table', 'a close up of a broccoli head on a table', 'a close up of a piece of broccoli', 'a close up of a piece of broccoli', 'a close up of a piece of broccoli']\n",
      "Counter({'piece': 1, 'head': 1, 'table': 1, 'broccoli': 1})\n"
     ]
    }
   ],
   "source": [
    "image_filename = os.path.join(google_open_images_folder, '3361086680_baf1ebe647_o.jpg')\n",
    "ws = test_subspace_from_image(image_filename)"
   ]
  },
  {
   "cell_type": "code",
   "execution_count": null,
   "metadata": {},
   "outputs": [],
   "source": []
  }
 ],
 "metadata": {
  "kernelspec": {
   "display_name": "Python 3",
   "language": "python",
   "name": "python3"
  },
  "language_info": {
   "codemirror_mode": {
    "name": "ipython",
    "version": 3
   },
   "file_extension": ".py",
   "mimetype": "text/x-python",
   "name": "python",
   "nbconvert_exporter": "python",
   "pygments_lexer": "ipython3",
   "version": "3.6.8"
  }
 },
 "nbformat": 4,
 "nbformat_minor": 2
}
