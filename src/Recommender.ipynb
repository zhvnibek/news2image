{
 "cells": [
  {
   "cell_type": "code",
   "execution_count": 1,
   "metadata": {},
   "outputs": [],
   "source": [
    "import sys\n",
    "import os\n",
    "import numpy as np\n",
    "from gensim.models import KeyedVectors\n",
    "from text.encoder import TextEncoder\n",
    "from text.summarizer import NewsSummarizer\n",
    "from common.space import Space\n",
    "from config import w2v_file, vocab_limit\n",
    "from config import get_logger\n",
    "\n",
    "sys.path.append(os.path.join(sys.path[0],'image','captioning')) # add models.py\n",
    "\n",
    "logger = get_logger('recommender')"
   ]
  },
  {
   "cell_type": "code",
   "execution_count": 2,
   "metadata": {},
   "outputs": [
    {
     "name": "stderr",
     "output_type": "stream",
     "text": [
      "2020-02-17 21:34:44,001 gensim.models.utils_any2vec: INFO loading projection weights from ~/Downloads/GoogleNews-vectors-negative300.bin.gz\n",
      "2020-02-17 21:35:29,943 gensim.models.utils_any2vec: INFO loaded (1000000, 300) matrix from ~/Downloads/GoogleNews-vectors-negative300.bin.gz\n"
     ]
    }
   ],
   "source": [
    "keyed_vectors = KeyedVectors.load_word2vec_format(w2v_file, limit=vocab_limit, binary=True)\n",
    "space = Space(keyed_vectors)"
   ]
  },
  {
   "cell_type": "code",
   "execution_count": 3,
   "metadata": {},
   "outputs": [],
   "source": [
    "class Recommender:\n",
    "\n",
    "    def __init__(self, space: Space):\n",
    "        self.space = space\n",
    "        self.text_encoder = TextEncoder(space=self.space)\n",
    "        self.image_subspaces_loc = None\n",
    "    \n",
    "    def set_image_subspaces(self, path: str):\n",
    "        self.image_subspaces_loc = path\n",
    "                \n",
    "    def predict(self, text: str, count: int = 5):\n",
    "        sims = self.compute_similarities(text)\n",
    "        return sorted(sims, key=lambda x: x[1], reverse=True)[:count]\n",
    "\n",
    "#     def display_predictions(self, count: int=5):\n",
    "#         preds = self.predict(text, count)\n",
    "#         pass\n",
    "\n",
    "    # Search the most similar word subspace from images\n",
    "    def compute_similarities(self, text: str):\n",
    "        sub_txt = self.text_encoder.create_subspace(full_text=text)\n",
    "        logger.info(sub_txt.shape)\n",
    "        sims = []\n",
    "        if self.image_subspaces_loc is not None:\n",
    "            for im in os.listdir(self.image_subspaces_loc):\n",
    "                sub_img = np.load(os.path.join(self.image_subspaces_loc, im))\n",
    "                sim = self.space.subspaces_similarity(sub_txt, sub_img)\n",
    "                sims.append((im.split('.')[0], sim))\n",
    "        return sims\n",
    "        \n",
    "    def __str__(self):\n",
    "        return \"Image Recommender Model\""
   ]
  },
  {
   "cell_type": "code",
   "execution_count": 4,
   "metadata": {},
   "outputs": [],
   "source": [
    "goi_subspaces = '../data/subspaces/goi5k'"
   ]
  },
  {
   "cell_type": "code",
   "execution_count": 5,
   "metadata": {},
   "outputs": [],
   "source": [
    "recommender = Recommender(space=space)\n",
    "recommender.set_image_subspaces(goi_subspaces)"
   ]
  },
  {
   "cell_type": "code",
   "execution_count": 6,
   "metadata": {},
   "outputs": [],
   "source": [
    "text = \"\"\"\n",
    "In Anaheim, California, thousands of cosplayers came to WonderCon wearing their costumes and make-up and brought props. People of all ages come to the annual event to see their favourite fandom in games, comics, TV shows, movies, books, and costumes!\"\"\""
   ]
  },
  {
   "cell_type": "code",
   "execution_count": 7,
   "metadata": {},
   "outputs": [
    {
     "data": {
      "text/plain": [
       "Counter({'costume': 2,\n",
       "         'annual': 1,\n",
       "         'tv': 1,\n",
       "         'event': 1,\n",
       "         'game': 1,\n",
       "         'fandom': 1,\n",
       "         'comics': 1})"
      ]
     },
     "execution_count": 7,
     "metadata": {},
     "output_type": "execute_result"
    }
   ],
   "source": [
    "recommender.text_encoder._get_keywords(text)"
   ]
  },
  {
   "cell_type": "code",
   "execution_count": 10,
   "metadata": {},
   "outputs": [],
   "source": [
    "text = \"\"\"\n",
    "Shocking CCTV footage released by Manchester police shows the moment the man wielding \n",
    "a large-bladed knife is tackled to the ground by armed officers. At about 11 pm on Tuesday, \n",
    "CCTV operators spotted a man waving the butcher’s knife around the Piccadilly Garden’s \n",
    "area of Manchester and informed the police. The man can be seen struggling to stand and \n",
    "interacts with terrified members of the public, as he continues to wave the knife around.\n",
    "A 55-year-old man has been arrested on suspicion of affray and remains in police custody \n",
    "for questioning.\"\"\"\n",
    "text2 = \"\"\"\n",
    "a close up of a green head on a table. a close up of a green head on a table.\n",
    "\"\"\""
   ]
  },
  {
   "cell_type": "code",
   "execution_count": 16,
   "metadata": {},
   "outputs": [
    {
     "name": "stderr",
     "output_type": "stream",
     "text": [
      "2020-01-30 13:31:59,461 recommender: INFO (300, 5)\n"
     ]
    },
    {
     "data": {
      "text/plain": [
       "[('14372026358_a2ce9435fb_o', 0.14994904),\n",
       " ('6654575639_e87751962c_o', 0.14353785),\n",
       " ('3241537537_f5c850b93b_o', 0.14353785),\n",
       " ('14785988292_7e617261e2_o', 0.13940585),\n",
       " ('3830496092_cd80a8353d_o', 0.13847227)]"
      ]
     },
     "execution_count": 16,
     "metadata": {},
     "output_type": "execute_result"
    }
   ],
   "source": [
    "# recommender.compute_similarities(text=text)\n",
    "recommender.predict(text=text)"
   ]
  },
  {
   "cell_type": "code",
   "execution_count": 8,
   "metadata": {},
   "outputs": [],
   "source": [
    "from image.encoder import ImageEncoder\n",
    "from config import google_open_images_folder\n",
    "image_encoder = ImageEncoder(space=space)"
   ]
  },
  {
   "cell_type": "code",
   "execution_count": 9,
   "metadata": {},
   "outputs": [],
   "source": [
    "def test_subspace_from_image(image_filename: str):\n",
    "    captions: list = image_encoder._get_captions(image_filename)\n",
    "    print(captions)\n",
    "    keywords: Counter = image_encoder._get_keywords(captions)\n",
    "    print(keywords)\n",
    "    word_subspace = image_encoder.create_subspace(image_filename)\n",
    "    return word_subspace"
   ]
  },
  {
   "cell_type": "code",
   "execution_count": 10,
   "metadata": {},
   "outputs": [
    {
     "name": "stdout",
     "output_type": "stream",
     "text": [
      "['a close up of a broccoli head on a table', 'a close up of a broccoli head on a table', 'a close up of a piece of broccoli', 'a close up of a piece of broccoli', 'a close up of a piece of broccoli']\n",
      "Counter({'piece': 1, 'head': 1, 'table': 1, 'broccoli': 1})\n"
     ]
    }
   ],
   "source": [
    "image_filename = os.path.join(google_open_images_folder, '3361086680_baf1ebe647_o.jpg')\n",
    "ws = test_subspace_from_image(image_filename)"
   ]
  },
  {
   "cell_type": "code",
   "execution_count": null,
   "metadata": {},
   "outputs": [],
   "source": []
  }
 ],
 "metadata": {
  "kernelspec": {
   "display_name": "Python 3",
   "language": "python",
   "name": "python3"
  },
  "language_info": {
   "codemirror_mode": {
    "name": "ipython",
    "version": 3
   },
   "file_extension": ".py",
   "mimetype": "text/x-python",
   "name": "python",
   "nbconvert_exporter": "python",
   "pygments_lexer": "ipython3",
   "version": "3.6.8"
  }
 },
 "nbformat": 4,
 "nbformat_minor": 2
}
