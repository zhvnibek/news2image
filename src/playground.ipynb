{
 "cells": [
  {
   "cell_type": "code",
   "execution_count": 14,
   "metadata": {},
   "outputs": [],
   "source": [
    "from gensim.models import KeyedVectors\n",
    "from common.space import Space\n",
    "from text.encoder import TextEncoder"
   ]
  },
  {
   "cell_type": "code",
   "execution_count": 15,
   "metadata": {},
   "outputs": [],
   "source": [
    "from config import w2v_file, vocab_limit"
   ]
  },
  {
   "cell_type": "code",
   "execution_count": 6,
   "metadata": {},
   "outputs": [
    {
     "name": "stderr",
     "output_type": "stream",
     "text": [
      "2019-12-22 15:15:44,365 gensim.models.utils_any2vec: INFO loading projection weights from ~/Downloads/GoogleNews-vectors-negative300.bin.gz\n",
      "2019-12-22 15:16:25,811 gensim.models.utils_any2vec: INFO loaded (1000000, 300) matrix from ~/Downloads/GoogleNews-vectors-negative300.bin.gz\n"
     ]
    }
   ],
   "source": [
    "keyed_vectors = KeyedVectors.load_word2vec_format(w2v_file, limit=vocab_limit, binary=True)"
   ]
  },
  {
   "cell_type": "code",
   "execution_count": 7,
   "metadata": {},
   "outputs": [],
   "source": [
    "space = Space(keyed_vectors)\n",
    "text_encoder = TextEncoder(space=space)"
   ]
  },
  {
   "cell_type": "code",
   "execution_count": 8,
   "metadata": {},
   "outputs": [],
   "source": [
    "full_text1 = \"\"\"\n",
    "Shocking CCTV footage released by Manchester police shows the moment the man wielding \n",
    "a large-bladed knife is tackled to the ground by armed officers. At about 11 pm on Tuesday, \n",
    "CCTV operators spotted a man waving the butcher’s knife around the Piccadilly Garden’s \n",
    "area of Manchester and informed the police. The man can be seen struggling to stand and \n",
    "interacts with terrified members of the public, as he continues to wave the knife around.\n",
    "A 55-year-old man has been arrested on suspicion of affray and remains in police custody \n",
    "for questioning.\"\"\"\n",
    "full_text2 = \"\"\"\n",
    "Shocking CCTV footage released by Manchester police shows the moment the man wielding \n",
    "a large-bladed knife is tackled to the ground by armed officers.\n",
    "The man can be seen struggling to stand and interacts with terrified members of the public, \n",
    "as he continues to wave the knife around. A 55-year-old man has been arrested on suspicion \n",
    "of affray and remains in police custody for questioning.\n",
    "\"\"\"\n",
    "full_text3 = \"\"\"\n",
    "man with a knife attemted to kill the boys of the governore near the school. A 55-year-old \n",
    "man has been arrested on suspicion of affray and remains in police custody for questioning.\n",
    "\"\"\""
   ]
  },
  {
   "cell_type": "code",
   "execution_count": 9,
   "metadata": {},
   "outputs": [],
   "source": [
    "ws1 = text_encoder.create_subspace(full_text=full_text1)\n",
    "ws2 = text_encoder.create_subspace(full_text=full_text2)\n",
    "ws3 = text_encoder.create_subspace(full_text=full_text3)"
   ]
  },
  {
   "cell_type": "code",
   "execution_count": 13,
   "metadata": {},
   "outputs": [
    {
     "data": {
      "text/plain": [
       "0.22766455"
      ]
     },
     "execution_count": 13,
     "metadata": {},
     "output_type": "execute_result"
    }
   ],
   "source": [
    "space.subspaces_similarity(ws2, ws1)"
   ]
  },
  {
   "cell_type": "code",
   "execution_count": null,
   "metadata": {},
   "outputs": [],
   "source": []
  }
 ],
 "metadata": {
  "kernelspec": {
   "display_name": "Python 3",
   "language": "python",
   "name": "python3"
  },
  "language_info": {
   "codemirror_mode": {
    "name": "ipython",
    "version": 3
   },
   "file_extension": ".py",
   "mimetype": "text/x-python",
   "name": "python",
   "nbconvert_exporter": "python",
   "pygments_lexer": "ipython3",
   "version": "3.6.8"
  }
 },
 "nbformat": 4,
 "nbformat_minor": 2
}
