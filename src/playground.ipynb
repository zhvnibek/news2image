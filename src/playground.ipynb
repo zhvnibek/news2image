{
 "cells": [
  {
   "cell_type": "code",
   "execution_count": 288,
   "metadata": {},
   "outputs": [],
   "source": [
    "import numpy as np\n",
    "from collections import Counter\n",
    "from gensim.models import KeyedVectors\n",
    "from sklearn.decomposition import PCA\n",
    "from scipy.linalg import subspace_angles"
   ]
  },
  {
   "cell_type": "code",
   "execution_count": 289,
   "metadata": {},
   "outputs": [],
   "source": [
    "from config import w2v_file, vocab_limit"
   ]
  },
  {
   "cell_type": "code",
   "execution_count": 4,
   "metadata": {},
   "outputs": [
    {
     "name": "stderr",
     "output_type": "stream",
     "text": [
      "2019-12-19 20:17:02,408 gensim.models.utils_any2vec: INFO loading projection weights from ~/Downloads/GoogleNews-vectors-negative300.bin.gz\n",
      "2019-12-19 20:17:44,386 gensim.models.utils_any2vec: INFO loaded (1000000, 300) matrix from ~/Downloads/GoogleNews-vectors-negative300.bin.gz\n"
     ]
    }
   ],
   "source": [
    "keyed_vectors = KeyedVectors.load_word2vec_format(w2v_file, limit=vocab_limit, binary=True)"
   ]
  },
  {
   "cell_type": "code",
   "execution_count": 422,
   "metadata": {},
   "outputs": [],
   "source": [
    "class Space:\n",
    "\n",
    "    def __init__(self, keyed_vectors: KeyedVectors):\n",
    "        self.keyed_vectors = keyed_vectors\n",
    "        self.embed_size: int = 300\n",
    "\n",
    "    def get_embedding(self, word: str) -> np.ndarray:\n",
    "        \"\"\" What is the vector for missing words? \"\"\"\n",
    "        return self.keyed_vectors[word] if word in self.keyed_vectors else None\n",
    "\n",
    "    def _vectorize_keywords(self, keywords: Counter, use_tf: bool = True) -> np.ndarray:\n",
    "        if not use_tf:\n",
    "            return np.array([\n",
    "            self.get_embedding(word)\n",
    "            for word in keywords.keys()\n",
    "            if self.get_embedding(word) is not None\n",
    "        ])\n",
    "        return np.array([\n",
    "            self.get_embedding(word) * count\n",
    "            for word, count in keywords.items()\n",
    "            if self.get_embedding(word) is not None\n",
    "        ])\n",
    "\n",
    "    def _autocorr(self, matrix) -> np.ndarray:\n",
    "        return matrix.T.dot(matrix)\n",
    "\n",
    "    def create_subspace(self, keywords: Counter, dims: int, use_tf: bool = True) -> np.ndarray:\n",
    "        embeddings = self._vectorize_keywords(keywords, use_tf)\n",
    "        R = self._autocorr(embeddings)\n",
    "        return PCA(n_components=dims).fit_transform(R)\n",
    "\n",
    "    def subspaces_similarity(self, S1, S2):\n",
    "        canon_angles = subspace_angles(S1, S2)\n",
    "        s = np.average(np.square(np.cos(canon_angles)))\n",
    "        return s"
   ]
  },
  {
   "cell_type": "code",
   "execution_count": 423,
   "metadata": {},
   "outputs": [],
   "source": [
    "space = Space(keyed_vectors)"
   ]
  },
  {
   "cell_type": "code",
   "execution_count": 433,
   "metadata": {},
   "outputs": [],
   "source": [
    "keywords1 = Counter(['king'])\n",
    "keywords2 = Counter(['tree'])"
   ]
  },
  {
   "cell_type": "code",
   "execution_count": 434,
   "metadata": {},
   "outputs": [],
   "source": [
    "ss1 = space.create_subspace(keywords=keywords1, dims=5)\n",
    "ss2 = space.create_subspace(keywords=keywords2, dims=5)"
   ]
  },
  {
   "cell_type": "code",
   "execution_count": 435,
   "metadata": {},
   "outputs": [
    {
     "data": {
      "text/plain": [
       "0.013432044"
      ]
     },
     "execution_count": 435,
     "metadata": {},
     "output_type": "execute_result"
    }
   ],
   "source": [
    "space.subspaces_similarity(ss1, ss2)"
   ]
  },
  {
   "cell_type": "code",
   "execution_count": 436,
   "metadata": {},
   "outputs": [],
   "source": [
    "from scipy.spatial.distance import cosine"
   ]
  },
  {
   "cell_type": "code",
   "execution_count": 437,
   "metadata": {},
   "outputs": [],
   "source": [
    "a = space.get_embedding('king')\n",
    "b = space.get_embedding('tree')\n",
    "c = space.get_embedding('man')\n",
    "d = space.get_embedding('woman')"
   ]
  },
  {
   "cell_type": "code",
   "execution_count": 439,
   "metadata": {},
   "outputs": [
    {
     "data": {
      "text/plain": [
       "0.8908586427569389"
      ]
     },
     "execution_count": 439,
     "metadata": {},
     "output_type": "execute_result"
    }
   ],
   "source": [
    "cosine(a, b)"
   ]
  },
  {
   "cell_type": "code",
   "execution_count": 415,
   "metadata": {},
   "outputs": [
    {
     "data": {
      "text/plain": [
       "array([3.847888e-07], dtype=float32)"
      ]
     },
     "execution_count": 415,
     "metadata": {},
     "output_type": "execute_result"
    }
   ],
   "source": [
    "al=subspace_angles(ss1,ss2)\n",
    "al"
   ]
  },
  {
   "cell_type": "code",
   "execution_count": 416,
   "metadata": {},
   "outputs": [
    {
     "data": {
      "text/plain": [
       "array([2.2046772e-05], dtype=float32)"
      ]
     },
     "execution_count": 416,
     "metadata": {},
     "output_type": "execute_result"
    }
   ],
   "source": [
    "np.rad2deg(al)"
   ]
  },
  {
   "cell_type": "code",
   "execution_count": null,
   "metadata": {},
   "outputs": [],
   "source": []
  }
 ],
 "metadata": {
  "kernelspec": {
   "display_name": "Python 3",
   "language": "python",
   "name": "python3"
  },
  "language_info": {
   "codemirror_mode": {
    "name": "ipython",
    "version": 3
   },
   "file_extension": ".py",
   "mimetype": "text/x-python",
   "name": "python",
   "nbconvert_exporter": "python",
   "pygments_lexer": "ipython3",
   "version": "3.6.8"
  }
 },
 "nbformat": 4,
 "nbformat_minor": 2
}
