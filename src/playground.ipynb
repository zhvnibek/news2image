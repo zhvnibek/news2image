{
 "cells": [
  {
   "cell_type": "code",
   "execution_count": 7,
   "metadata": {},
   "outputs": [],
   "source": [
    "import numpy as np\n",
    "from collections import Counter\n",
    "from gensim.models import KeyedVectors\n",
    "from common.basic_encoder import BasicEncoder\n",
    "from common.space import Space\n",
    "from text.summarizer import NewsSummarizer"
   ]
  },
  {
   "cell_type": "code",
   "execution_count": 10,
   "metadata": {},
   "outputs": [],
   "source": [
    "from config import w2v_file, vocab_limit\n",
    "from config import stop_words"
   ]
  },
  {
   "cell_type": "code",
   "execution_count": 5,
   "metadata": {},
   "outputs": [
    {
     "name": "stderr",
     "output_type": "stream",
     "text": [
      "2019-12-20 13:38:42,056 gensim.models.utils_any2vec: INFO loading projection weights from ~/Downloads/GoogleNews-vectors-negative300.bin.gz\n",
      "2019-12-20 13:39:24,785 gensim.models.utils_any2vec: INFO loaded (1000000, 300) matrix from ~/Downloads/GoogleNews-vectors-negative300.bin.gz\n"
     ]
    }
   ],
   "source": [
    "keyed_vectors = KeyedVectors.load_word2vec_format(w2v_file, limit=vocab_limit, binary=True)"
   ]
  },
  {
   "cell_type": "code",
   "execution_count": 9,
   "metadata": {},
   "outputs": [],
   "source": [
    "space = Space(keyed_vectors)"
   ]
  },
  {
   "cell_type": "code",
   "execution_count": 114,
   "metadata": {},
   "outputs": [],
   "source": [
    "class TextEncoder(BasicEncoder):\n",
    "\n",
    "    def __init__(self, summarizer: NewsSummarizer, space: Space):\n",
    "        self.summarizer = summarizer\n",
    "        self.space = space\n",
    "\n",
    "    def create_subspace(self, full_text: str, subspace_dim: int = 5):\n",
    "        \"\"\"Returns a word subspace \"\"\"\n",
    "        keywords: Counter = self._get_keywords(full_text)\n",
    "        if keywords:\n",
    "            return self.space.create_subspace(keywords, dims=subspace_dim)\n",
    "\n",
    "    def _get_keywords(self, full_text: str, limit: int = 7) -> Counter:\n",
    "        top_sents = 1\n",
    "        keywords = Counter()\n",
    "        while not keywords:\n",
    "            keywords: Counter = self.summarizer.get_keywords(text=full_text, top=top_sents)\n",
    "            top_sents += 1\n",
    "        return Counter(dict(keywords.most_common(limit)))\n",
    "\n",
    "    def __repr__(self) -> str:\n",
    "        return 'Text Encoder'"
   ]
  },
  {
   "cell_type": "code",
   "execution_count": 70,
   "metadata": {},
   "outputs": [],
   "source": [
    "news_summarizer = NewsSummarizer(stop_words=stop_words)\n",
    "text_encoder = TextEncoder(summarizer=news_summarizer, space=space)"
   ]
  },
  {
   "cell_type": "code",
   "execution_count": 130,
   "metadata": {},
   "outputs": [],
   "source": [
    "full_text1 = \"\"\"\n",
    "Shocking CCTV footage released by Manchester police shows the moment the man wielding \n",
    "a large-bladed knife is tackled to the ground by armed officers. At about 11 pm on Tuesday, \n",
    "CCTV operators spotted a man waving the butcher’s knife around the Piccadilly Garden’s \n",
    "area of Manchester and informed the police. The man can be seen struggling to stand and \n",
    "interacts with terrified members of the public, as he continues to wave the knife around.\n",
    "A 55-year-old man has been arrested on suspicion of affray and remains in police custody \n",
    "for questioning.\"\"\"\n",
    "full_text2 = \"\"\"\n",
    "Shocking CCTV footage released by Manchester police shows the moment the man wielding \n",
    "a large-bladed knife is tackled to the ground by armed officers.\n",
    "The man can be seen struggling to stand and interacts with terrified members of the public, \n",
    "as he continues to wave the knife around. A 55-year-old man has been arrested on suspicion \n",
    "of affray and remains in police custody for questioning.\n",
    "\"\"\"\n",
    "full_text3 = \"\"\"\n",
    "man with a knife attemted to kill the boys of the governore near the school. A 55-year-old \n",
    "man has been arrested on suspicion of affray and remains in police custody for questioning.\n",
    "\"\"\""
   ]
  },
  {
   "cell_type": "code",
   "execution_count": 131,
   "metadata": {},
   "outputs": [
    {
     "name": "stdout",
     "output_type": "stream",
     "text": [
      "Counter({'man': 4, 'police': 3, 'knife': 3, 'wave': 2, 'cctv': 2, 'manchester': 2, 'inform': 1})\n",
      "Counter({'man': 3, 'police': 2, 'knife': 2, 'release': 1, 'bladed': 1, 'moment': 1, 'cctv': 1})\n",
      "Counter({'man': 2, 'custody': 1, 'remain': 1, 'affray': 1, 'question': 1, 'police': 1, 'year': 1})\n"
     ]
    }
   ],
   "source": [
    "ws1 = text_encoder.create_subspace(full_text=full_text1)\n",
    "ws2 = text_encoder.create_subspace(full_text=full_text2)\n",
    "ws3 = text_encoder.create_subspace(full_text=full_text3)"
   ]
  },
  {
   "cell_type": "code",
   "execution_count": 134,
   "metadata": {},
   "outputs": [
    {
     "data": {
      "text/plain": [
       "0.107053615"
      ]
     },
     "execution_count": 134,
     "metadata": {},
     "output_type": "execute_result"
    }
   ],
   "source": [
    "space.subspaces_similarity(ws3, ws2)"
   ]
  },
  {
   "cell_type": "code",
   "execution_count": null,
   "metadata": {},
   "outputs": [],
   "source": []
  }
 ],
 "metadata": {
  "kernelspec": {
   "display_name": "Python 3",
   "language": "python",
   "name": "python3"
  },
  "language_info": {
   "codemirror_mode": {
    "name": "ipython",
    "version": 3
   },
   "file_extension": ".py",
   "mimetype": "text/x-python",
   "name": "python",
   "nbconvert_exporter": "python",
   "pygments_lexer": "ipython3",
   "version": "3.6.8"
  }
 },
 "nbformat": 4,
 "nbformat_minor": 2
}
