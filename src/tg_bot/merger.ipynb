{
 "cells": [
  {
   "cell_type": "code",
   "execution_count": 66,
   "metadata": {},
   "outputs": [],
   "source": [
    "import os\n",
    "import cv2\n",
    "import math\n",
    "from typing import Optional\n",
    "import sys\n",
    "project_path = \"/home/zhanibek/Desktop/Fall '19/Senior Project/news2image\"\n",
    "sys.path.append(project_path)\n",
    "from src.config import ImageConfig\n",
    "\n",
    "\n",
    "# Code from https://note.nkmk.me/en/python-opencv-hconcat-vconcat-np-tile/\n",
    "def stack_horizontal(im_list, interpolation=cv2.INTER_CUBIC):\n",
    "    h_min = min(im.shape[0] for im in im_list)\n",
    "    im_list_resize = [cv2.resize(im, (int(im.shape[1] * h_min / im.shape[0]), h_min), interpolation=interpolation)\n",
    "                      for im in im_list]\n",
    "    return cv2.hconcat(im_list_resize)\n",
    "\n",
    "\n",
    "def stack_vertical(im_list, interpolation=cv2.INTER_CUBIC):\n",
    "    w_min = min(im.shape[1] for im in im_list)\n",
    "    im_list_resize = [cv2.resize(im, (w_min, int(im.shape[0] * w_min / im.shape[1])), interpolation=interpolation)\n",
    "                      for im in im_list]\n",
    "    return cv2.vconcat(im_list_resize)\n",
    "\n",
    "\n",
    "def stack_grid(image_ids: list) -> Optional[str]:\n",
    "\n",
    "    def _get_dims(count: int) -> tuple:\n",
    "        _cols = math.ceil(math.sqrt(count))\n",
    "        _rows = math.ceil(count / _cols)\n",
    "        return _cols, _rows\n",
    "\n",
    "    if not image_ids:\n",
    "        return None\n",
    "\n",
    "    image_full_filenames = [os.path.join(ImageConfig.get_images_folder(), f'{_id}.jpg') for _id in image_ids]\n",
    "    cols, rows = _get_dims(len(image_full_filenames))\n",
    "    v_list = []\n",
    "    for row in range(rows):\n",
    "        row_im_list = [cv2.imread(im) for im in image_full_filenames[row*cols:(row+1)*cols]]\n",
    "        im_h_resize = stack_horizontal(im_list=row_im_list)\n",
    "        v_list.append(im_h_resize)\n",
    "    im_v_resize = stack_vertical(im_list=v_list)\n",
    "    img_loc = f'temp/collage/{\"&\".join(image_ids)}.jpg'\n",
    "    cv2.imwrite(img_loc, im_v_resize)\n",
    "    return img_loc\n",
    "\n",
    "\n",
    "def make_collage(image_ids: list) -> str:\n",
    "    default = 'temp/collage/default.png'\n",
    "    collage = stack_grid(image_ids=image_ids)\n",
    "    return collage if collage is not None else default"
   ]
  },
  {
   "cell_type": "code",
   "execution_count": 69,
   "metadata": {},
   "outputs": [],
   "source": [
    "img_ids = [img.split('.')[0] for img in os.listdir(ImageConfig.get_images_folder())]\n",
    "test_img_ids = img_ids[110:115]\n",
    "collage_loc: str = make_collage(image_ids=test_img_ids)"
   ]
  },
  {
   "cell_type": "code",
   "execution_count": 70,
   "metadata": {},
   "outputs": [
    {
     "data": {
      "text/plain": [
       "'temp/collage/263179152_2d906f0c4c_o&8145393248_1d1cf34496_o&16705823208_c74f64f619_o&17175241632_58b9bcd3ba_o&5182243568_daf2cea04b_o.jpg'"
      ]
     },
     "execution_count": 70,
     "metadata": {},
     "output_type": "execute_result"
    }
   ],
   "source": [
    "collage_loc"
   ]
  },
  {
   "cell_type": "code",
   "execution_count": null,
   "metadata": {},
   "outputs": [],
   "source": []
  }
 ],
 "metadata": {
  "kernelspec": {
   "display_name": "Python 3",
   "language": "python",
   "name": "python3"
  },
  "language_info": {
   "codemirror_mode": {
    "name": "ipython",
    "version": 3
   },
   "file_extension": ".py",
   "mimetype": "text/x-python",
   "name": "python",
   "nbconvert_exporter": "python",
   "pygments_lexer": "ipython3",
   "version": "3.6.8"
  }
 },
 "nbformat": 4,
 "nbformat_minor": 2
}
